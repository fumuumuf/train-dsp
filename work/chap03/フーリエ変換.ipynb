{
 "cells": [
  {
   "cell_type": "code",
   "execution_count": 1,
   "metadata": {},
   "outputs": [],
   "source": [
    "import numpy as np\n",
    "import matplotlib.pyplot as plt\n",
    "import scipy.fftpack as sfft\n",
    "import matplotlib.mlab as mlab\n",
    "import scipy.signal as ss\n",
    "import cis"
   ]
  },
  {
   "cell_type": "code",
   "execution_count": 5,
   "metadata": {},
   "outputs": [
    {
     "data": {
      "text/plain": [
       "[<matplotlib.lines.Line2D at 0x7f8cb16ff9e8>]"
      ]
     },
     "execution_count": 5,
     "metadata": {},
     "output_type": "execute_result"
    },
    {
     "data": {
      "image/png": "[encoded data removed]",
      "text/plain": [
       "<Figure size 432x288 with 1 Axes>"
      ]
     },
     "metadata": {},
     "output_type": "display_data"
    }
   ],
   "source": [
    "fs = 100\n",
    "t = np.arange(0, 7, 1/fs)\n",
    "y = np.sin(2*np.pi*15*t)+np.cos(2*np.pi*40*t) # f=15, 40 の周波数を足し合わせ\n",
    "cs = sfft.fft(y[:600])\n",
    "plt.plot(np.abs(cs))"
   ]
  },
  {
   "cell_type": "code",
   "execution_count": 20,
   "metadata": {},
   "outputs": [
    {
     "name": "stdout",
     "output_type": "stream",
     "text": [
      "(600,)\n",
      "(array([ 90, 240, 360, 510]),)\n"
     ]
    }
   ],
   "source": [
    "print(cs.shape)\n",
    "# インパルスたってる(？) 周波数成分を取り出す\n",
    "o = (np.abs(cs) > 250).nonzero()\n",
    "print(o)\n"
   ]
  },
  {
   "cell_type": "markdown",
   "metadata": {},
   "source": [
    "## memo\n",
    "\n",
    "上のサンプルでは\n",
    "\n",
    "+ ナイキスト周波数: 50\n",
    "\n"
   ]
  }
 ],
 "metadata": {
  "kernelspec": {
   "display_name": "Python 3",
   "language": "python",
   "name": "python3"
  },
  "language_info": {
   "codemirror_mode": {
    "name": "ipython",
    "version": 3
   },
   "file_extension": ".py",
   "mimetype": "text/x-python",
   "name": "python",
   "nbconvert_exporter": "python",
   "pygments_lexer": "ipython3",
   "version": "3.6.5"
  }
 },
 "nbformat": 4,
 "nbformat_minor": 2
}
